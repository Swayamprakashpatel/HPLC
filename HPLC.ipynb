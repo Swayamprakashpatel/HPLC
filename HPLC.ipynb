{
  "cells": [
    {
      "cell_type": "markdown",
      "metadata": {
        "id": "view-in-github",
        "colab_type": "text"
      },
      "source": [
        "<a href=\"https://colab.research.google.com/github/Swayamprakashpatel/HPLC/blob/main/HPLC.ipynb\" target=\"_parent\"><img src=\"https://colab.research.google.com/assets/colab-badge.svg\" alt=\"Open In Colab\"/></a>"
      ]
    },
    {
      "cell_type": "code",
      "execution_count": 1,
      "metadata": {
        "id": "hdOKQlX8nYHN"
      },
      "outputs": [],
      "source": [
        "import tensorflow as tf\n",
        "import numpy as np\n",
        "import pandas as pd\n",
        "from tensorflow.keras.layers import Dropout\n",
        "import pandas_datareader as web\n",
        "from sklearn.preprocessing import MinMaxScaler\n",
        "from keras.models import Sequential\n",
        "from keras.layers import Dense\n",
        "from google.colab import files\n",
        "import time as tm"
      ]
    },
    {
      "cell_type": "code",
      "source": [
        "df = pd.read_csv('/content/Data.csv')\n",
        "df = pd.DataFrame(df)\n",
        "df = df.iloc[:,:]\n",
        "\n",
        "X1 = df.iloc[:, 12:14]\n",
        "X1 = X1.div(20).round(2) \n",
        "\n",
        "X2 = df.iloc[:, 14:]\n",
        "#X = [X1,X2]\n",
        "#X = pd.concat(X, axis=1)\n",
        "X = X2\n",
        "\n",
        "Y_Cat = df.iloc[:, 4:7]\n",
        "Y_Num = df.iloc[:,7:11]\n",
        "Y_Num = Y_Num.div(100).round(2)\n",
        "Y_Num = [X1,Y_Num]\n",
        "Y_Num = pd.concat(Y_Num, axis = 1)\n",
        "X.head(),Y_Cat.head(), Y_Num.head()\n",
        "print(X.shape, Y_Cat.shape, Y_Num.shape)"
      ],
      "metadata": {
        "id": "pWFUSWyuSmAe",
        "colab": {
          "base_uri": "https://localhost:8080/"
        },
        "outputId": "dd209d77-7cca-44af-dc0c-29801b515082"
      },
      "execution_count": 5,
      "outputs": [
        {
          "output_type": "stream",
          "name": "stdout",
          "text": [
            "(970, 1762) (970, 3) (970, 6)\n"
          ]
        }
      ]
    },
    {
      "cell_type": "code",
      "execution_count": null,
      "metadata": {
        "id": "bl6TPQWc79WI"
      },
      "outputs": [],
      "source": [
        "import datetime\n",
        "log_dir = \"logs/fit/\" + datetime.datetime.now().strftime(\"%Y%m%d-%H%M%S\")\n",
        "tensorboard_callback = tf.keras.callbacks.TensorBoard(log_dir=log_dir, histogram_freq=1)"
      ]
    },
    {
      "cell_type": "code",
      "source": [
        "print(X)"
      ],
      "metadata": {
        "id": "BZw3_4D4DTRo"
      },
      "execution_count": null,
      "outputs": []
    },
    {
      "cell_type": "markdown",
      "source": [
        "CLASSIFICATION"
      ],
      "metadata": {
        "id": "bZKsQgQQXfqN"
      }
    },
    {
      "cell_type": "code",
      "execution_count": null,
      "metadata": {
        "id": "jTmAQkhsNuQ7"
      },
      "outputs": [],
      "source": [
        "from sklearn.preprocessing import OneHotEncoder\n",
        "enc = OneHotEncoder(handle_unknown='ignore')\n",
        "\n",
        "enc.fit(Y_Cat)\n",
        "OneHotEncoder(handle_unknown='ignore')\n",
        "enc.categories_\n",
        "\n",
        "Y_Cat_OH = enc.transform(Y_Cat).toarray() #Categorical Data\n",
        "print(Y_Cat_OH,Y_Cat_OH.shape)\n",
        "\n",
        "print(Y_Cat_OH.shape)\n",
        "\n",
        "\n",
        "\n",
        "Y2 = Y_Cat_OH\n",
        "\n",
        "from sklearn import preprocessing\n",
        "from sklearn.model_selection import train_test_split\n",
        "\n",
        "X_train, X_val_and_test, Y2_train, Y2_val_and_test = train_test_split(X, Y2, test_size=0.01,random_state = 42 )\n",
        "X_val, X_test, Y2_val, Y2_test = train_test_split(X_val_and_test, Y2_val_and_test, test_size=0.5, random_state= 42)\n",
        "\n",
        "X_train = np.asarray(X_train).astype(np.int64)\n",
        "X_val = np.asarray(X_val).astype(np.int64)\n",
        "X_test = np.asarray(X_test).astype(np.int64)\n",
        "Y2_train = np.asarray(Y2_train).astype(np.int64)\n",
        "Y2_val = np.asarray(Y2_val).astype(np.int64)\n",
        "Y2_test = np.asarray(Y2_test).astype(np.int64)\n",
        "\n",
        "\n",
        "filepath = '/content/drive/My Drive/HPLC_CAT.hdf5'\n",
        " \n",
        "checkpoint = [tf.keras.callbacks.ModelCheckpoint(filepath, monitor='accuracy', mode='max', save_best_only=True, Save_weights_only = False, verbose = 1), \n",
        "              tf.keras.callbacks.EarlyStopping(monitor='accuracy', patience=225, verbose =2)]\n",
        "\n",
        "output_nodes = Y2.shape[1]\n",
        "print(output_nodes)\n",
        "model = tf.keras.Sequential([\n",
        "                             tf.keras.layers.Dense(1764, activation='relu', input_shape=(1764,)),\n",
        "                             tf.keras.layers.Dense(512, activation='relu'),\n",
        "                             tf.keras.layers.Dense(512, activation='relu'),\n",
        "                             tf.keras.layers.Dense(output_nodes, activation= 'Softmax')])\n",
        "model.compile(optimizer=tf.keras.optimizers.Adam(learning_rate=0.8), loss=tf.keras.losses.CategoricalCrossentropy(from_logits = False), metrics=['accuracy'])\n",
        "hist = model.fit(X_train, Y2_train, epochs= 2000, callbacks=[checkpoint],validation_data=(X_val, Y2_val), batch_size= 150)\n",
        "model.evaluate(X_test, Y2_test)\n",
        " \n",
        "Y2_train_predict = np.round(model.predict(X_train))\n",
        "Y2_train_l = tf.argmax(Y2_train, axis = 1)\n",
        "Y2_train_predict_l = tf.argmax(Y2_train_predict, axis =1)\n",
        "import sklearn.metrics as skm\n",
        "cm = skm.multilabel_confusion_matrix(Y2_train_l, Y2_train_predict_l)\n",
        "print(cm)\n",
        "print( skm.classification_report(Y2_train_l, Y2_train_predict_l))\n",
        " \n",
        "train_acc = max(hist.history['accuracy'])\n",
        "val_acc = max(hist.history['val_accuracy'])\n",
        "train_loss = min(hist.history['loss'])\n",
        "val_loss = min(hist.history['val_loss'])\n",
        "print('Training Accuracy is')\n",
        "print(train_acc)\n",
        "print('Validation Accuracy is')\n",
        "print(val_acc)\n",
        "print('Training loss is')\n",
        "print(train_loss)\n",
        "print('Validation loss is')\n",
        "print(val_loss)"
      ]
    },
    {
      "cell_type": "code",
      "source": [
        "X.isnull().any() \n"
      ],
      "metadata": {
        "colab": {
          "base_uri": "https://localhost:8080/"
        },
        "id": "qqddj7OkXP7t",
        "outputId": "83ff7fb4-c934-4104-e195-55a9bacebc3b"
      },
      "execution_count": null,
      "outputs": [
        {
          "output_type": "execute_result",
          "data": {
            "text/plain": [
              "RT_Drug_1    False\n",
              "RT_Drug_2    False\n",
              "fp1          False\n",
              "fp2          False\n",
              "fp3          False\n",
              "             ...  \n",
              "fp877.1      False\n",
              "fp878.1      False\n",
              "fp879.1      False\n",
              "fp880.1      False\n",
              "fp881.1      False\n",
              "Length: 1764, dtype: bool"
            ]
          },
          "metadata": {},
          "execution_count": 7
        }
      ]
    },
    {
      "cell_type": "markdown",
      "source": [
        "REGRESSION"
      ],
      "metadata": {
        "id": "pQSckBk2XQy2"
      }
    },
    {
      "cell_type": "code",
      "source": [
        "Y = Y_Num\n",
        "\n",
        "\n",
        "from sklearn import preprocessing\n",
        "from sklearn.model_selection import train_test_split\n",
        "X_train, X_val_and_test, Y_train, Y_val_and_test = train_test_split(X, Y, test_size=0.3,random_state = 42 )\n",
        "X_val, X_test, Y_val, Y_test = train_test_split(X_val_and_test, Y_val_and_test, test_size=0.5, random_state= 42)\n",
        "import numpy as np\n",
        " \n",
        "X_train = np.asarray(X_train).astype(np.int64)\n",
        "X_val = np.asarray(X_val).astype(np.int64)\n",
        "X_test = np.asarray(X_test).astype(np.int64)\n",
        "Y_train = np.asarray(Y_train).astype(np.int64)\n",
        "Y_val = np.asarray(Y_val).astype(np.int64)\n",
        "Y_test = np.asarray(Y_test).astype(np.int64)\n",
        " \n",
        "filepath = '/content/drive/My Drive/HPLC_NUM.hdf5'\n",
        " \n",
        "checkpoint = [tf.keras.callbacks.ModelCheckpoint(filepath, monitor='val_root_mean_squared_error', mode='min', save_best_only=True, Save_weights_only = False, verbose = 2), \n",
        "              tf.keras.callbacks.EarlyStopping(monitor='val_root_mean_squared_error', patience=575, verbose =2)]\n",
        "output_nodes = Y.shape[1]\n",
        "print(output_nodes)\n",
        "\n",
        "\n",
        "model = tf.keras.Sequential([\n",
        "                             tf.keras.layers.Dense(512, activation='relu', input_shape=(1764,)),\n",
        "                             tf.keras.layers.Dense(512, activation='relu'),\n",
        "                             #tf.keras.layers.Dense(512, activation='relu'),\n",
        "                             tf.keras.layers.Dense(output_nodes, activation ='Softmax')])\n",
        "\n",
        "model.compile(optimizer=tf.keras.optimizers.SGD(learning_rate = 0.7), loss=tf.keras.losses.MeanSquaredError(), metrics=[tf.keras.metrics.RootMeanSquaredError()])\n",
        "hist = model.fit(X, Y, epochs= 10000, callbacks=[checkpoint],validation_data=(X, Y), batch_size= 100)\n",
        "model.evaluate(X_test, Y_test)\n",
        " \n",
        "# Error Graph\n",
        "from matplotlib import pyplot as plt\n",
        "plt.plot(hist.history['root_mean_squared_error'])\n",
        "plt.plot(hist.history['val_root_mean_squared_error'])\n",
        "plt.title('Model RMSE')\n",
        "plt.ylabel('Loss')\n",
        "plt.xlabel('Epoch')\n",
        "plt.legend(['Train', 'Val'], loc='upper right')\n",
        "plt.show()\n",
        " \n",
        "\n",
        "train_acc = min(hist.history['root_mean_squared_error'])\n",
        "val_acc = min(hist.history['val_root_mean_squared_error'])\n",
        "train_loss = min(hist.history['loss'])\n",
        "val_loss = min(hist.history['val_loss'])\n",
        "print('Training RMSE is')\n",
        "print(train_acc)\n",
        "print('Validation RMSE is')\n",
        "print(val_acc)\n",
        "print('Training loss is')\n",
        "print(train_loss)\n",
        "print('Validation loss is')\n",
        "print(val_loss)\n",
        "\n"
      ],
      "metadata": {
        "id": "_VAAX6AmXSVx"
      },
      "execution_count": null,
      "outputs": []
    },
    {
      "cell_type": "code",
      "source": [
        "# Error Graph\n",
        "from matplotlib import pyplot as plt\n",
        "plt.plot(hist.history['root_mean_squared_error'])\n",
        "plt.plot(hist.history['val_root_mean_squared_error'])\n",
        "plt.title('Model RMSE')\n",
        "plt.ylabel('Loss')\n",
        "plt.xlabel('Epoch')\n",
        "plt.legend(['Train', 'Val'], loc='upper right')\n",
        "plt.show()\n",
        " \n",
        "\n",
        "train_acc = min(hist.history['root_mean_squared_error'])\n",
        "val_acc = min(hist.history['val_root_mean_squared_error'])\n",
        "train_loss = min(hist.history['loss'])\n",
        "val_loss = min(hist.history['val_loss'])\n",
        "print('Training RMSE is')\n",
        "print(train_acc)\n",
        "print('Validation RMSE is')\n",
        "print(val_acc)\n",
        "print('Training loss is')\n",
        "print(train_loss)\n",
        "print('Validation loss is')\n",
        "print(val_loss)\n"
      ],
      "metadata": {
        "colab": {
          "base_uri": "https://localhost:8080/",
          "height": 434
        },
        "id": "X0vvwMORct5O",
        "outputId": "ece6d616-742f-4b60-a5c8-12852fde404b"
      },
      "execution_count": null,
      "outputs": [
        {
          "output_type": "display_data",
          "data": {
            "text/plain": [
              "<Figure size 432x288 with 1 Axes>"
            ],
            "image/png": "[encoded data removed]"
          },
          "metadata": {
            "needs_background": "light"
          }
        },
        {
          "output_type": "stream",
          "name": "stdout",
          "text": [
            "Training RMSE is\n",
            "0.08911699056625366\n",
            "Validation RMSE is\n",
            "0.0848977118730545\n",
            "Training loss is\n",
            "0.0079418383538723\n",
            "Validation loss is\n",
            "0.0072076208889484406\n"
          ]
        }
      ]
    },
    {
      "cell_type": "code",
      "source": [
        "\n",
        "#@title Insert PubChem Fingerprint of Drug and Carrier (Oil, Surfactant, Cosurfactant)\n",
        "!pip install pubchempy\n",
        "import tensorflow as tf\n",
        "import pandas as pd \n",
        "import numpy as np \n",
        "import io\n",
        "from tensorflow import keras\n",
        "import pubchempy as pcp\n",
        "from sklearn.preprocessing import OneHotEncoder\n",
        "from keras.models import load_model\n",
        "import time as tm\n",
        "from google_drive_downloader import GoogleDriveDownloader as gdd\n",
        "\n",
        "#gdd.download_file_from_google_drive(file_id='1jWa1UK8cxcCuEX_Chs1zm4hfa_j_Q-Ki',\n",
        "                                   #dest_path='/content/sample_data/HPLC_NUM.hdf5',\n",
        "                                   #unzip=False)\n",
        "#Load Model\n",
        "model = load_model('/content/sample_data/HPLC_NUM.hdf5', compile= True)\n",
        "\n"
      ],
      "metadata": {
        "colab": {
          "base_uri": "https://localhost:8080/"
        },
        "id": "k-1CGTx7sY7z",
        "outputId": "c5f9826d-05d3-45d3-ca19-de36e214b609"
      },
      "execution_count": null,
      "outputs": [
        {
          "output_type": "stream",
          "name": "stdout",
          "text": [
            "Looking in indexes: https://pypi.org/simple, https://us-python.pkg.dev/colab-wheels/public/simple/\n",
            "Requirement already satisfied: pubchempy in /usr/local/lib/python3.8/dist-packages (1.0.4)\n"
          ]
        }
      ]
    },
    {
      "cell_type": "code",
      "source": [
        "Drug_1_CID =  24872560#@param {type:\"number\"}\n",
        "Drug_2_CID =  24872560#@param {type:\"number\"}\n",
        "Rt_Drug_1 =  4#@param {type:\"number\"}\n",
        "Rt_Drug_2 =  6#@param {type:\"number\"}\n",
        "Rt_Drug_1 = Rt_Drug_1/20\n",
        "Rt_Drug_2 = Rt_Drug_2/20\n",
        "\n",
        "Drug_1_CID = pcp.Compound.from_cid(Drug_1_CID)\n",
        "Drug_2_CID = pcp.Compound.from_cid(Drug_2_CID)\n",
        "\n",
        "FPD_1 = Drug_1_CID.cactvs_fingerprint\n",
        "FPD_2 = Drug_2_CID.cactvs_fingerprint\n",
        "\n",
        "List1 = [Rt_Drug_1, Rt_Drug_2]\n",
        "\n",
        "List2 = list(FPD_1)\n",
        "List3 = list(FPD_2)\n",
        "List = List1 + List2 + List3\n",
        "t = pd.DataFrame(np.array(List).reshape(-1,len(List)))\n",
        "\n",
        "dataset1 = t.values\n",
        "t.dtype = int\n",
        "X_Predict = (dataset1[:,0:1764].astype(float))\n",
        "\n",
        "\n",
        "Y_prediction = model.predict(X_Predict)\n",
        "Y_prediction = Y_prediction*100\n",
        "Y_prediction = pd.DataFrame(Y_prediction)\n",
        "print(Y_prediction)\n"
      ],
      "metadata": {
        "colab": {
          "base_uri": "https://localhost:8080/"
        },
        "id": "spuSzwGes2rj",
        "outputId": "0398ae6d-9079-4a5a-eb19-95db491bd12e"
      },
      "execution_count": null,
      "outputs": [
        {
          "output_type": "stream",
          "name": "stdout",
          "text": [
            "1/1 [==============================] - 0s 36ms/step\n",
            "           0          1       2          3\n",
            "0  16.523994  14.295761  2.9872  66.193047\n"
          ]
        }
      ]
    },
    {
      "cell_type": "code",
      "source": [
        "from tabulate import tabulate\n",
        "print(tabulate([['Methanol', Y_prediction.iloc[0:1,0:1]], ['Acetonitrile', Y_prediction.iloc[0:1,1:2]], ['Water', Y_prediction.iloc[0:1,2:3]], ['Buffer', Y_prediction.iloc[0:1,3:4]]], headers=['Solvent', 'Proportion(%)']))"
      ],
      "metadata": {
        "colab": {
          "base_uri": "https://localhost:8080/"
        },
        "id": "ZjJkMNeixRPM",
        "outputId": "83a834b9-d9d6-40cc-c336-59894b18d13d"
      },
      "execution_count": null,
      "outputs": [
        {
          "output_type": "stream",
          "name": "stdout",
          "text": [
            "Solvent       Proportion(%)\n",
            "------------  ---------------\n",
            "Methanol      0\n",
            "              0  16.523994\n",
            "Acetonitrile  1\n",
            "              0  14.295761\n",
            "Water         2\n",
            "              0  2.9872\n",
            "Buffer        3\n",
            "              0  66.193047\n"
          ]
        }
      ]
    },
    {
      "cell_type": "code",
      "source": [],
      "metadata": {
        "id": "YsJ8il8A2yxW"
      },
      "execution_count": null,
      "outputs": []
    }
  ],
  "metadata": {
    "colab": {
      "provenance": [],
      "authorship_tag": "ABX9TyP9isXuk5E/Rn47zUMkc+Ca",
      "include_colab_link": true
    },
    "kernelspec": {
      "display_name": "Python 3",
      "name": "python3"
    },
    "language_info": {
      "name": "python"
    }
  },
  "nbformat": 4,
  "nbformat_minor": 0
}