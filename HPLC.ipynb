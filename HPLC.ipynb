{
  "cells": [
    {
      "cell_type": "markdown",
      "metadata": {
        "id": "view-in-github",
        "colab_type": "text"
      },
      "source": [
        "<a href=\"https://colab.research.google.com/github/Swayamprakashpatel/HPLC/blob/main/HPLC.ipynb\" target=\"_parent\"><img src=\"https://colab.research.google.com/assets/colab-badge.svg\" alt=\"Open In Colab\"/></a>"
      ]
    },
    {
      "cell_type": "code",
      "execution_count": 39,
      "metadata": {
        "id": "hdOKQlX8nYHN"
      },
      "outputs": [],
      "source": [
        "import tensorflow as tf\n",
        "import numpy as np\n",
        "import pandas as pd\n",
        "from tensorflow.keras.layers import Dropout\n",
        "import pandas_datareader as web\n",
        "from sklearn.preprocessing import MinMaxScaler\n",
        "from keras.models import Sequential\n",
        "from keras.layers import Dense\n",
        "from google.colab import files\n",
        "import time as tm"
      ]
    },
    {
      "cell_type": "code",
      "source": [
        "df = pd.read_csv('/content/Data.csv')\n",
        "df = pd.DataFrame(df)\n",
        "df = df.iloc[:,:]\n",
        "\n",
        "X1 = df.iloc[:, 7:11]\n",
        "X1 = X1.div(100).round(2)\n",
        "\n",
        "X2 = df.iloc[:,11:12]\n",
        "X2 = X2.div(14).round(2)\n",
        "\n",
        "X3 = df.iloc[:, 12:1774]\n",
        "\n",
        "X = [X1,X2,X3]\n",
        "X = pd.concat(X, axis=1)\n",
        "\n",
        "Y_Cat = df.iloc[:, 4:7]\n",
        "\n",
        "Y_Num = df.iloc[:,1774:1776]\n",
        "\n",
        "\n",
        "Y_Num = Y_Num.div(50).round(2)\n",
        "\n"
      ],
      "metadata": {
        "id": "pWFUSWyuSmAe"
      },
      "execution_count": 56,
      "outputs": []
    },
    {
      "cell_type": "code",
      "source": [
        "print(Y_Num)"
      ],
      "metadata": {
        "colab": {
          "base_uri": "https://localhost:8080/"
        },
        "id": "-CrzoLVj7t-r",
        "outputId": "0d2f181c-29ce-4cbc-859e-56e1d0600440"
      },
      "execution_count": 58,
      "outputs": [
        {
          "output_type": "stream",
          "name": "stdout",
          "text": [
            "     RT_Drug_1  RT_Drug_2\n",
            "0         0.10       0.18\n",
            "1         0.08       0.10\n",
            "2         0.08       0.12\n",
            "3         0.06       0.10\n",
            "4         0.06       0.04\n",
            "..         ...        ...\n",
            "963       0.06       0.10\n",
            "964       0.10       0.04\n",
            "965       0.10       0.04\n",
            "966       0.10       0.02\n",
            "967       0.08       0.18\n",
            "\n",
            "[968 rows x 2 columns]\n"
          ]
        }
      ]
    },
    {
      "cell_type": "code",
      "execution_count": null,
      "metadata": {
        "id": "bl6TPQWc79WI"
      },
      "outputs": [],
      "source": [
        "import datetime\n",
        "log_dir = \"logs/fit/\" + datetime.datetime.now().strftime(\"%Y%m%d-%H%M%S\")\n",
        "tensorboard_callback = tf.keras.callbacks.TensorBoard(log_dir=log_dir, histogram_freq=1)"
      ]
    },
    {
      "cell_type": "code",
      "source": [
        "print(X)"
      ],
      "metadata": {
        "id": "BZw3_4D4DTRo"
      },
      "execution_count": null,
      "outputs": []
    },
    {
      "cell_type": "markdown",
      "source": [
        "REGRESSION"
      ],
      "metadata": {
        "id": "pQSckBk2XQy2"
      }
    },
    {
      "cell_type": "code",
      "source": [
        "Y = Y_Num\n",
        "\n",
        "\n",
        "from sklearn import preprocessing\n",
        "from sklearn.model_selection import train_test_split\n",
        "X_train, X_val_and_test, Y_train, Y_val_and_test = train_test_split(X, Y, test_size=0.3,random_state = 42 )\n",
        "X_val, X_test, Y_val, Y_test = train_test_split(X_val_and_test, Y_val_and_test, test_size=0.5, random_state= 42)\n",
        "import numpy as np\n",
        " \n",
        "X_train = np.asarray(X_train).astype(np.int64)\n",
        "X_val = np.asarray(X_val).astype(np.int64)\n",
        "X_test = np.asarray(X_test).astype(np.int64)\n",
        "Y_train = np.asarray(Y_train).astype(np.int64)\n",
        "Y_val = np.asarray(Y_val).astype(np.int64)\n",
        "Y_test = np.asarray(Y_test).astype(np.int64)\n",
        " \n",
        "filepath = '/content/drive/My Drive/HPLC_NUM.hdf5'\n",
        " \n",
        "checkpoint = [tf.keras.callbacks.ModelCheckpoint(filepath, monitor='val_root_mean_squared_error', mode='min', save_best_only=True, Save_weights_only = False, verbose = 2), \n",
        "              tf.keras.callbacks.EarlyStopping(monitor='val_root_mean_squared_error', patience=75, verbose =2)]\n",
        "output_nodes = Y.shape[1]\n",
        "print(output_nodes)\n",
        "\n",
        "\n",
        "model = tf.keras.Sequential([\n",
        "                             tf.keras.layers.Dense(512, activation='relu', input_shape=(1767,)),\n",
        "                             tf.keras.layers.Dense(512, activation='relu'),\n",
        "                             #tf.keras.layers.Dense(512, activation='relu'),\n",
        "                             tf.keras.layers.Dense(output_nodes, activation ='relu')])\n",
        "\n",
        "model.compile(optimizer=tf.keras.optimizers.RMSprop(learning_rate = 0.7), loss=tf.keras.losses.MeanSquaredError(), metrics=[tf.keras.metrics.RootMeanSquaredError()])\n",
        "hist = model.fit(X, Y, epochs= 10000, callbacks=[checkpoint],validation_data=(X, Y), batch_size= 100)\n",
        "model.evaluate(X_test, Y_test)\n",
        " \n",
        "# Error Graph\n",
        "from matplotlib import pyplot as plt\n",
        "plt.plot(hist.history['root_mean_squared_error'])\n",
        "plt.plot(hist.history['val_root_mean_squared_error'])\n",
        "plt.title('Model RMSE')\n",
        "plt.ylabel('Loss')\n",
        "plt.xlabel('Epoch')\n",
        "plt.legend(['Train', 'Val'], loc='upper right')\n",
        "plt.show()\n",
        " \n",
        "\n",
        "train_acc = min(hist.history['root_mean_squared_error'])\n",
        "val_acc = min(hist.history['val_root_mean_squared_error'])\n",
        "train_loss = min(hist.history['loss'])\n",
        "val_loss = min(hist.history['val_loss'])\n",
        "print('Training RMSE is')\n",
        "print(train_acc)\n",
        "print('Validation RMSE is')\n",
        "print(val_acc)\n",
        "print('Training loss is')\n",
        "print(train_loss)\n",
        "print('Validation loss is')\n",
        "print(val_loss)\n",
        "\n"
      ],
      "metadata": {
        "id": "_VAAX6AmXSVx",
        "colab": {
          "base_uri": "https://localhost:8080/"
        },
        "outputId": "220b1f14-3c7a-43b7-dea5-66d9a8dadd15"
      },
      "execution_count": null,
      "outputs": [
        {
          "output_type": "stream",
          "name": "stdout",
          "text": [
            "2\n",
            "Epoch 1/10000\n",
            "10/10 [==============================] - ETA: 0s - loss: 275644810264576.0000 - root_mean_squared_error: 16602554.0000\n",
            "Epoch 1: val_root_mean_squared_error improved from inf to 0.12289, saving model to /content/drive/My Drive/HPLC_NUM.hdf5\n",
            "10/10 [==============================] - 1s 47ms/step - loss: 275644810264576.0000 - root_mean_squared_error: 16602554.0000 - val_loss: 0.0151 - val_root_mean_squared_error: 0.1229\n",
            "Epoch 2/10000\n",
            " 9/10 [==========================>...] - ETA: 0s - loss: 0.0151 - root_mean_squared_error: 0.1227\n",
            "Epoch 2: val_root_mean_squared_error did not improve from 0.12289\n",
            "10/10 [==============================] - 0s 31ms/step - loss: 0.0151 - root_mean_squared_error: 0.1229 - val_loss: 0.0151 - val_root_mean_squared_error: 0.1229\n",
            "Epoch 3/10000\n",
            " 8/10 [=======================>......] - ETA: 0s - loss: 0.0152 - root_mean_squared_error: 0.1233\n",
            "Epoch 3: val_root_mean_squared_error did not improve from 0.12289\n",
            "10/10 [==============================] - 0s 34ms/step - loss: 0.0151 - root_mean_squared_error: 0.1229 - val_loss: 0.0151 - val_root_mean_squared_error: 0.1229\n",
            "Epoch 4/10000\n",
            "10/10 [==============================] - ETA: 0s - loss: 0.0151 - root_mean_squared_error: 0.1229\n",
            "Epoch 4: val_root_mean_squared_error did not improve from 0.12289\n",
            "10/10 [==============================] - 0s 31ms/step - loss: 0.0151 - root_mean_squared_error: 0.1229 - val_loss: 0.0151 - val_root_mean_squared_error: 0.1229\n",
            "Epoch 5/10000\n",
            " 9/10 [==========================>...] - ETA: 0s - loss: 0.0151 - root_mean_squared_error: 0.1229\n",
            "Epoch 5: val_root_mean_squared_error did not improve from 0.12289\n",
            "10/10 [==============================] - 0s 31ms/step - loss: 0.0151 - root_mean_squared_error: 0.1229 - val_loss: 0.0151 - val_root_mean_squared_error: 0.1229\n",
            "Epoch 6/10000\n",
            "10/10 [==============================] - ETA: 0s - loss: 0.0151 - root_mean_squared_error: 0.1229\n",
            "Epoch 6: val_root_mean_squared_error did not improve from 0.12289\n",
            "10/10 [==============================] - 0s 33ms/step - loss: 0.0151 - root_mean_squared_error: 0.1229 - val_loss: 0.0151 - val_root_mean_squared_error: 0.1229\n",
            "Epoch 7/10000\n",
            " 9/10 [==========================>...] - ETA: 0s - loss: 0.0151 - root_mean_squared_error: 0.1229\n",
            "Epoch 7: val_root_mean_squared_error did not improve from 0.12289\n",
            "10/10 [==============================] - 0s 33ms/step - loss: 0.0151 - root_mean_squared_error: 0.1229 - val_loss: 0.0151 - val_root_mean_squared_error: 0.1229\n",
            "Epoch 8/10000\n",
            " 9/10 [==========================>...] - ETA: 0s - loss: 0.0153 - root_mean_squared_error: 0.1237\n",
            "Epoch 8: val_root_mean_squared_error did not improve from 0.12289\n",
            "10/10 [==============================] - 0s 31ms/step - loss: 0.0151 - root_mean_squared_error: 0.1229 - val_loss: 0.0151 - val_root_mean_squared_error: 0.1229\n",
            "Epoch 9/10000\n",
            " 9/10 [==========================>...] - ETA: 0s - loss: 0.0151 - root_mean_squared_error: 0.1230\n",
            "Epoch 9: val_root_mean_squared_error did not improve from 0.12289\n",
            "10/10 [==============================] - 0s 33ms/step - loss: 0.0151 - root_mean_squared_error: 0.1229 - val_loss: 0.0151 - val_root_mean_squared_error: 0.1229\n",
            "Epoch 10/10000\n",
            "10/10 [==============================] - ETA: 0s - loss: 0.0151 - root_mean_squared_error: 0.1229\n",
            "Epoch 10: val_root_mean_squared_error did not improve from 0.12289\n",
            "10/10 [==============================] - 0s 30ms/step - loss: 0.0151 - root_mean_squared_error: 0.1229 - val_loss: 0.0151 - val_root_mean_squared_error: 0.1229\n",
            "Epoch 11/10000\n",
            "10/10 [==============================] - ETA: 0s - loss: 0.0151 - root_mean_squared_error: 0.1229\n",
            "Epoch 11: val_root_mean_squared_error did not improve from 0.12289\n",
            "10/10 [==============================] - 0s 29ms/step - loss: 0.0151 - root_mean_squared_error: 0.1229 - val_loss: 0.0151 - val_root_mean_squared_error: 0.1229\n",
            "Epoch 12/10000\n",
            " 9/10 [==========================>...] - ETA: 0s - loss: 0.0151 - root_mean_squared_error: 0.1229\n",
            "Epoch 12: val_root_mean_squared_error did not improve from 0.12289\n",
            "10/10 [==============================] - 0s 32ms/step - loss: 0.0151 - root_mean_squared_error: 0.1229 - val_loss: 0.0151 - val_root_mean_squared_error: 0.1229\n",
            "Epoch 13/10000\n",
            "10/10 [==============================] - ETA: 0s - loss: 0.0151 - root_mean_squared_error: 0.1229\n",
            "Epoch 13: val_root_mean_squared_error did not improve from 0.12289\n",
            "10/10 [==============================] - 0s 31ms/step - loss: 0.0151 - root_mean_squared_error: 0.1229 - val_loss: 0.0151 - val_root_mean_squared_error: 0.1229\n",
            "Epoch 14/10000\n",
            "10/10 [==============================] - ETA: 0s - loss: 0.0151 - root_mean_squared_error: 0.1229\n",
            "Epoch 14: val_root_mean_squared_error did not improve from 0.12289\n",
            "10/10 [==============================] - 0s 33ms/step - loss: 0.0151 - root_mean_squared_error: 0.1229 - val_loss: 0.0151 - val_root_mean_squared_error: 0.1229\n",
            "Epoch 15/10000\n",
            "10/10 [==============================] - ETA: 0s - loss: 0.0151 - root_mean_squared_error: 0.1229\n",
            "Epoch 15: val_root_mean_squared_error did not improve from 0.12289\n",
            "10/10 [==============================] - 0s 31ms/step - loss: 0.0151 - root_mean_squared_error: 0.1229 - val_loss: 0.0151 - val_root_mean_squared_error: 0.1229\n",
            "Epoch 16/10000\n",
            " 9/10 [==========================>...] - ETA: 0s - loss: 0.0151 - root_mean_squared_error: 0.1229\n",
            "Epoch 16: val_root_mean_squared_error did not improve from 0.12289\n",
            "10/10 [==============================] - 0s 32ms/step - loss: 0.0151 - root_mean_squared_error: 0.1229 - val_loss: 0.0151 - val_root_mean_squared_error: 0.1229\n",
            "Epoch 17/10000\n",
            "10/10 [==============================] - ETA: 0s - loss: 0.0151 - root_mean_squared_error: 0.1229\n",
            "Epoch 17: val_root_mean_squared_error did not improve from 0.12289\n",
            "10/10 [==============================] - 0s 31ms/step - loss: 0.0151 - root_mean_squared_error: 0.1229 - val_loss: 0.0151 - val_root_mean_squared_error: 0.1229\n",
            "Epoch 18/10000\n",
            "10/10 [==============================] - ETA: 0s - loss: 0.0151 - root_mean_squared_error: 0.1229\n",
            "Epoch 18: val_root_mean_squared_error did not improve from 0.12289\n",
            "10/10 [==============================] - 0s 30ms/step - loss: 0.0151 - root_mean_squared_error: 0.1229 - val_loss: 0.0151 - val_root_mean_squared_error: 0.1229\n",
            "Epoch 19/10000\n",
            " 9/10 [==========================>...] - ETA: 0s - loss: 0.0151 - root_mean_squared_error: 0.1230\n",
            "Epoch 19: val_root_mean_squared_error did not improve from 0.12289\n",
            "10/10 [==============================] - 0s 32ms/step - loss: 0.0151 - root_mean_squared_error: 0.1229 - val_loss: 0.0151 - val_root_mean_squared_error: 0.1229\n",
            "Epoch 20/10000\n",
            "10/10 [==============================] - ETA: 0s - loss: 0.0151 - root_mean_squared_error: 0.1229\n",
            "Epoch 20: val_root_mean_squared_error did not improve from 0.12289\n",
            "10/10 [==============================] - 0s 33ms/step - loss: 0.0151 - root_mean_squared_error: 0.1229 - val_loss: 0.0151 - val_root_mean_squared_error: 0.1229\n",
            "Epoch 21/10000\n",
            "10/10 [==============================] - ETA: 0s - loss: 0.0151 - root_mean_squared_error: 0.1229\n",
            "Epoch 21: val_root_mean_squared_error did not improve from 0.12289\n",
            "10/10 [==============================] - 0s 31ms/step - loss: 0.0151 - root_mean_squared_error: 0.1229 - val_loss: 0.0151 - val_root_mean_squared_error: 0.1229\n",
            "Epoch 22/10000\n",
            "10/10 [==============================] - ETA: 0s - loss: 0.0151 - root_mean_squared_error: 0.1229\n",
            "Epoch 22: val_root_mean_squared_error did not improve from 0.12289\n",
            "10/10 [==============================] - 0s 34ms/step - loss: 0.0151 - root_mean_squared_error: 0.1229 - val_loss: 0.0151 - val_root_mean_squared_error: 0.1229\n",
            "Epoch 23/10000\n",
            "10/10 [==============================] - ETA: 0s - loss: 0.0151 - root_mean_squared_error: 0.1229\n",
            "Epoch 23: val_root_mean_squared_error did not improve from 0.12289\n",
            "10/10 [==============================] - 0s 30ms/step - loss: 0.0151 - root_mean_squared_error: 0.1229 - val_loss: 0.0151 - val_root_mean_squared_error: 0.1229\n",
            "Epoch 24/10000\n",
            "10/10 [==============================] - ETA: 0s - loss: 0.0151 - root_mean_squared_error: 0.1229\n",
            "Epoch 24: val_root_mean_squared_error did not improve from 0.12289\n",
            "10/10 [==============================] - 0s 32ms/step - loss: 0.0151 - root_mean_squared_error: 0.1229 - val_loss: 0.0151 - val_root_mean_squared_error: 0.1229\n",
            "Epoch 25/10000\n",
            " 9/10 [==========================>...] - ETA: 0s - loss: 0.0151 - root_mean_squared_error: 0.1228\n",
            "Epoch 25: val_root_mean_squared_error did not improve from 0.12289\n",
            "10/10 [==============================] - 0s 33ms/step - loss: 0.0151 - root_mean_squared_error: 0.1229 - val_loss: 0.0151 - val_root_mean_squared_error: 0.1229\n",
            "Epoch 26/10000\n",
            " 9/10 [==========================>...] - ETA: 0s - loss: 0.0154 - root_mean_squared_error: 0.1240\n",
            "Epoch 26: val_root_mean_squared_error did not improve from 0.12289\n",
            "10/10 [==============================] - 0s 33ms/step - loss: 0.0151 - root_mean_squared_error: 0.1229 - val_loss: 0.0151 - val_root_mean_squared_error: 0.1229\n",
            "Epoch 27/10000\n",
            "10/10 [==============================] - ETA: 0s - loss: 0.0151 - root_mean_squared_error: 0.1229\n",
            "Epoch 27: val_root_mean_squared_error did not improve from 0.12289\n",
            "10/10 [==============================] - 0s 31ms/step - loss: 0.0151 - root_mean_squared_error: 0.1229 - val_loss: 0.0151 - val_root_mean_squared_error: 0.1229\n",
            "Epoch 28/10000\n",
            "10/10 [==============================] - ETA: 0s - loss: 0.0151 - root_mean_squared_error: 0.1229\n",
            "Epoch 28: val_root_mean_squared_error did not improve from 0.12289\n",
            "10/10 [==============================] - 0s 32ms/step - loss: 0.0151 - root_mean_squared_error: 0.1229 - val_loss: 0.0151 - val_root_mean_squared_error: 0.1229\n",
            "Epoch 29/10000\n",
            " 9/10 [==========================>...] - ETA: 0s - loss: 0.0151 - root_mean_squared_error: 0.1230\n",
            "Epoch 29: val_root_mean_squared_error did not improve from 0.12289\n",
            "10/10 [==============================] - 0s 31ms/step - loss: 0.0151 - root_mean_squared_error: 0.1229 - val_loss: 0.0151 - val_root_mean_squared_error: 0.1229\n",
            "Epoch 30/10000\n",
            "10/10 [==============================] - ETA: 0s - loss: 0.0151 - root_mean_squared_error: 0.1229\n",
            "Epoch 30: val_root_mean_squared_error did not improve from 0.12289\n",
            "10/10 [==============================] - 0s 32ms/step - loss: 0.0151 - root_mean_squared_error: 0.1229 - val_loss: 0.0151 - val_root_mean_squared_error: 0.1229\n",
            "Epoch 31/10000\n",
            "10/10 [==============================] - ETA: 0s - loss: 0.0151 - root_mean_squared_error: 0.1229\n",
            "Epoch 31: val_root_mean_squared_error did not improve from 0.12289\n",
            "10/10 [==============================] - 0s 33ms/step - loss: 0.0151 - root_mean_squared_error: 0.1229 - val_loss: 0.0151 - val_root_mean_squared_error: 0.1229\n",
            "Epoch 32/10000\n",
            " 8/10 [=======================>......] - ETA: 0s - loss: 0.0150 - root_mean_squared_error: 0.1224\n",
            "Epoch 32: val_root_mean_squared_error did not improve from 0.12289\n",
            "10/10 [==============================] - 0s 33ms/step - loss: 0.0151 - root_mean_squared_error: 0.1229 - val_loss: 0.0151 - val_root_mean_squared_error: 0.1229\n",
            "Epoch 33/10000\n",
            "10/10 [==============================] - ETA: 0s - loss: 0.0151 - root_mean_squared_error: 0.1229\n",
            "Epoch 33: val_root_mean_squared_error did not improve from 0.12289\n",
            "10/10 [==============================] - 0s 33ms/step - loss: 0.0151 - root_mean_squared_error: 0.1229 - val_loss: 0.0151 - val_root_mean_squared_error: 0.1229\n",
            "Epoch 34/10000\n",
            "10/10 [==============================] - ETA: 0s - loss: 0.0151 - root_mean_squared_error: 0.1229\n",
            "Epoch 34: val_root_mean_squared_error did not improve from 0.12289\n",
            "10/10 [==============================] - 0s 30ms/step - loss: 0.0151 - root_mean_squared_error: 0.1229 - val_loss: 0.0151 - val_root_mean_squared_error: 0.1229\n",
            "Epoch 35/10000\n",
            " 9/10 [==========================>...] - ETA: 0s - loss: 0.0152 - root_mean_squared_error: 0.1234\n",
            "Epoch 35: val_root_mean_squared_error did not improve from 0.12289\n",
            "10/10 [==============================] - 0s 32ms/step - loss: 0.0151 - root_mean_squared_error: 0.1229 - val_loss: 0.0151 - val_root_mean_squared_error: 0.1229\n",
            "Epoch 36/10000\n",
            " 9/10 [==========================>...] - ETA: 0s - loss: 0.0152 - root_mean_squared_error: 0.1233\n",
            "Epoch 36: val_root_mean_squared_error did not improve from 0.12289\n",
            "10/10 [==============================] - 0s 31ms/step - loss: 0.0151 - root_mean_squared_error: 0.1229 - val_loss: 0.0151 - val_root_mean_squared_error: 0.1229\n",
            "Epoch 37/10000\n",
            "10/10 [==============================] - ETA: 0s - loss: 0.0151 - root_mean_squared_error: 0.1229\n",
            "Epoch 37: val_root_mean_squared_error did not improve from 0.12289\n",
            "10/10 [==============================] - 0s 29ms/step - loss: 0.0151 - root_mean_squared_error: 0.1229 - val_loss: 0.0151 - val_root_mean_squared_error: 0.1229\n",
            "Epoch 38/10000\n",
            " 9/10 [==========================>...] - ETA: 0s - loss: 0.0151 - root_mean_squared_error: 0.1230\n",
            "Epoch 38: val_root_mean_squared_error did not improve from 0.12289\n",
            "10/10 [==============================] - 0s 33ms/step - loss: 0.0151 - root_mean_squared_error: 0.1229 - val_loss: 0.0151 - val_root_mean_squared_error: 0.1229\n",
            "Epoch 39/10000\n",
            "10/10 [==============================] - ETA: 0s - loss: 0.0151 - root_mean_squared_error: 0.1229\n",
            "Epoch 39: val_root_mean_squared_error did not improve from 0.12289\n",
            "10/10 [==============================] - 0s 32ms/step - loss: 0.0151 - root_mean_squared_error: 0.1229 - val_loss: 0.0151 - val_root_mean_squared_error: 0.1229\n",
            "Epoch 40/10000\n",
            "10/10 [==============================] - ETA: 0s - loss: 0.0151 - root_mean_squared_error: 0.1229\n",
            "Epoch 40: val_root_mean_squared_error did not improve from 0.12289\n",
            "10/10 [==============================] - 0s 33ms/step - loss: 0.0151 - root_mean_squared_error: 0.1229 - val_loss: 0.0151 - val_root_mean_squared_error: 0.1229\n",
            "Epoch 41/10000\n",
            " 9/10 [==========================>...] - ETA: 0s - loss: 0.0148 - root_mean_squared_error: 0.1218\n",
            "Epoch 41: val_root_mean_squared_error did not improve from 0.12289\n",
            "10/10 [==============================] - 0s 35ms/step - loss: 0.0151 - root_mean_squared_error: 0.1229 - val_loss: 0.0151 - val_root_mean_squared_error: 0.1229\n",
            "Epoch 42/10000\n",
            "10/10 [==============================] - ETA: 0s - loss: 0.0151 - root_mean_squared_error: 0.1229\n",
            "Epoch 42: val_root_mean_squared_error did not improve from 0.12289\n",
            "10/10 [==============================] - 0s 34ms/step - loss: 0.0151 - root_mean_squared_error: 0.1229 - val_loss: 0.0151 - val_root_mean_squared_error: 0.1229\n",
            "Epoch 43/10000\n",
            "10/10 [==============================] - ETA: 0s - loss: 0.0151 - root_mean_squared_error: 0.1229\n",
            "Epoch 43: val_root_mean_squared_error did not improve from 0.12289\n",
            "10/10 [==============================] - 0s 32ms/step - loss: 0.0151 - root_mean_squared_error: 0.1229 - val_loss: 0.0151 - val_root_mean_squared_error: 0.1229\n",
            "Epoch 44/10000\n",
            "10/10 [==============================] - ETA: 0s - loss: 0.0151 - root_mean_squared_error: 0.1229\n",
            "Epoch 44: val_root_mean_squared_error did not improve from 0.12289\n",
            "10/10 [==============================] - 0s 33ms/step - loss: 0.0151 - root_mean_squared_error: 0.1229 - val_loss: 0.0151 - val_root_mean_squared_error: 0.1229\n",
            "Epoch 45/10000\n",
            "10/10 [==============================] - ETA: 0s - loss: 0.0151 - root_mean_squared_error: 0.1229\n",
            "Epoch 45: val_root_mean_squared_error did not improve from 0.12289\n",
            "10/10 [==============================] - 0s 33ms/step - loss: 0.0151 - root_mean_squared_error: 0.1229 - val_loss: 0.0151 - val_root_mean_squared_error: 0.1229\n",
            "Epoch 46/10000\n",
            "10/10 [==============================] - ETA: 0s - loss: 0.0151 - root_mean_squared_error: 0.1229\n",
            "Epoch 46: val_root_mean_squared_error did not improve from 0.12289\n",
            "10/10 [==============================] - 0s 29ms/step - loss: 0.0151 - root_mean_squared_error: 0.1229 - val_loss: 0.0151 - val_root_mean_squared_error: 0.1229\n",
            "Epoch 47/10000\n",
            " 8/10 [=======================>......] - ETA: 0s - loss: 0.0147 - root_mean_squared_error: 0.1213\n",
            "Epoch 47: val_root_mean_squared_error did not improve from 0.12289\n",
            "10/10 [==============================] - 0s 33ms/step - loss: 0.0151 - root_mean_squared_error: 0.1229 - val_loss: 0.0151 - val_root_mean_squared_error: 0.1229\n",
            "Epoch 48/10000\n",
            " 9/10 [==========================>...] - ETA: 0s - loss: 0.0147 - root_mean_squared_error: 0.1213\n",
            "Epoch 48: val_root_mean_squared_error did not improve from 0.12289\n",
            "10/10 [==============================] - 0s 33ms/step - loss: 0.0151 - root_mean_squared_error: 0.1229 - val_loss: 0.0151 - val_root_mean_squared_error: 0.1229\n",
            "Epoch 49/10000\n",
            "10/10 [==============================] - ETA: 0s - loss: 0.0151 - root_mean_squared_error: 0.1229\n",
            "Epoch 49: val_root_mean_squared_error did not improve from 0.12289\n",
            "10/10 [==============================] - 0s 31ms/step - loss: 0.0151 - root_mean_squared_error: 0.1229 - val_loss: 0.0151 - val_root_mean_squared_error: 0.1229\n",
            "Epoch 50/10000\n",
            "10/10 [==============================] - ETA: 0s - loss: 0.0151 - root_mean_squared_error: 0.1229\n",
            "Epoch 50: val_root_mean_squared_error did not improve from 0.12289\n",
            "10/10 [==============================] - 0s 30ms/step - loss: 0.0151 - root_mean_squared_error: 0.1229 - val_loss: 0.0151 - val_root_mean_squared_error: 0.1229\n",
            "Epoch 51/10000\n",
            " 9/10 [==========================>...] - ETA: 0s - loss: 0.0153 - root_mean_squared_error: 0.1238\n",
            "Epoch 51: val_root_mean_squared_error did not improve from 0.12289\n",
            "10/10 [==============================] - 0s 32ms/step - loss: 0.0151 - root_mean_squared_error: 0.1229 - val_loss: 0.0151 - val_root_mean_squared_error: 0.1229\n",
            "Epoch 52/10000\n",
            "10/10 [==============================] - ETA: 0s - loss: 0.0151 - root_mean_squared_error: 0.1229\n",
            "Epoch 52: val_root_mean_squared_error did not improve from 0.12289\n",
            "10/10 [==============================] - 0s 31ms/step - loss: 0.0151 - root_mean_squared_error: 0.1229 - val_loss: 0.0151 - val_root_mean_squared_error: 0.1229\n",
            "Epoch 53/10000\n",
            "10/10 [==============================] - ETA: 0s - loss: 0.0151 - root_mean_squared_error: 0.1229\n",
            "Epoch 53: val_root_mean_squared_error did not improve from 0.12289\n",
            "10/10 [==============================] - 0s 30ms/step - loss: 0.0151 - root_mean_squared_error: 0.1229 - val_loss: 0.0151 - val_root_mean_squared_error: 0.1229\n",
            "Epoch 54/10000\n",
            "10/10 [==============================] - ETA: 0s - loss: 0.0151 - root_mean_squared_error: 0.1229\n",
            "Epoch 54: val_root_mean_squared_error did not improve from 0.12289\n",
            "10/10 [==============================] - 0s 32ms/step - loss: 0.0151 - root_mean_squared_error: 0.1229 - val_loss: 0.0151 - val_root_mean_squared_error: 0.1229\n",
            "Epoch 55/10000\n",
            " 9/10 [==========================>...] - ETA: 0s - loss: 0.0153 - root_mean_squared_error: 0.1238\n",
            "Epoch 55: val_root_mean_squared_error did not improve from 0.12289\n",
            "10/10 [==============================] - 0s 32ms/step - loss: 0.0151 - root_mean_squared_error: 0.1229 - val_loss: 0.0151 - val_root_mean_squared_error: 0.1229\n",
            "Epoch 56/10000\n",
            " 9/10 [==========================>...] - ETA: 0s - loss: 0.0148 - root_mean_squared_error: 0.1215\n",
            "Epoch 56: val_root_mean_squared_error did not improve from 0.12289\n",
            "10/10 [==============================] - 0s 31ms/step - loss: 0.0151 - root_mean_squared_error: 0.1229 - val_loss: 0.0151 - val_root_mean_squared_error: 0.1229\n",
            "Epoch 57/10000\n",
            "10/10 [==============================] - ETA: 0s - loss: 0.0151 - root_mean_squared_error: 0.1229\n",
            "Epoch 57: val_root_mean_squared_error did not improve from 0.12289\n",
            "10/10 [==============================] - 0s 32ms/step - loss: 0.0151 - root_mean_squared_error: 0.1229 - val_loss: 0.0151 - val_root_mean_squared_error: 0.1229\n",
            "Epoch 58/10000\n",
            "10/10 [==============================] - ETA: 0s - loss: 0.0151 - root_mean_squared_error: 0.1229\n",
            "Epoch 58: val_root_mean_squared_error did not improve from 0.12289\n",
            "10/10 [==============================] - 0s 34ms/step - loss: 0.0151 - root_mean_squared_error: 0.1229 - val_loss: 0.0151 - val_root_mean_squared_error: 0.1229\n",
            "Epoch 59/10000\n",
            " 9/10 [==========================>...] - ETA: 0s - loss: 0.0151 - root_mean_squared_error: 0.1230\n",
            "Epoch 59: val_root_mean_squared_error did not improve from 0.12289\n",
            "10/10 [==============================] - 0s 36ms/step - loss: 0.0151 - root_mean_squared_error: 0.1229 - val_loss: 0.0151 - val_root_mean_squared_error: 0.1229\n",
            "Epoch 60/10000\n",
            " 9/10 [==========================>...] - ETA: 0s - loss: 0.0151 - root_mean_squared_error: 0.1228\n",
            "Epoch 60: val_root_mean_squared_error did not improve from 0.12289\n",
            "10/10 [==============================] - 1s 62ms/step - loss: 0.0151 - root_mean_squared_error: 0.1229 - val_loss: 0.0151 - val_root_mean_squared_error: 0.1229\n",
            "Epoch 61/10000\n",
            " 6/10 [=================>............] - ETA: 0s - loss: 0.0151 - root_mean_squared_error: 0.1228"
          ]
        }
      ]
    },
    {
      "cell_type": "code",
      "source": [
        "# Error Graph\n",
        "from matplotlib import pyplot as plt\n",
        "plt.plot(hist.history['root_mean_squared_error'])\n",
        "plt.plot(hist.history['val_root_mean_squared_error'])\n",
        "plt.title('Model RMSE')\n",
        "plt.ylabel('Loss')\n",
        "plt.xlabel('Epoch')\n",
        "plt.legend(['Train', 'Val'], loc='upper right')\n",
        "plt.show()\n",
        " \n",
        "\n",
        "train_acc = min(hist.history['root_mean_squared_error'])\n",
        "val_acc = min(hist.history['val_root_mean_squared_error'])\n",
        "train_loss = min(hist.history['loss'])\n",
        "val_loss = min(hist.history['val_loss'])\n",
        "print('Training RMSE is')\n",
        "print(train_acc)\n",
        "print('Validation RMSE is')\n",
        "print(val_acc)\n",
        "print('Training loss is')\n",
        "print(train_loss)\n",
        "print('Validation loss is')\n",
        "print(val_loss)\n"
      ],
      "metadata": {
        "colab": {
          "base_uri": "https://localhost:8080/",
          "height": 434
        },
        "id": "X0vvwMORct5O",
        "outputId": "0320ea10-832a-4871-e7fd-5cdd727be927"
      },
      "execution_count": 34,
      "outputs": [
        {
          "output_type": "display_data",
          "data": {
            "text/plain": [
              "<Figure size 432x288 with 1 Axes>"
            ],
            "image/png": "[encoded data removed]"
          },
          "metadata": {
            "needs_background": "light"
          }
        },
        {
          "output_type": "stream",
          "name": "stdout",
          "text": [
            "Training RMSE is\n",
            "0.0\n",
            "Validation RMSE is\n",
            "0.0\n",
            "Training loss is\n",
            "0.0\n",
            "Validation loss is\n",
            "0.0\n"
          ]
        }
      ]
    },
    {
      "cell_type": "code",
      "source": [
        "\n",
        "#@title Insert PubChem Fingerprint of Drug and Carrier (Oil, Surfactant, Cosurfactant)\n",
        "!pip install pubchempy\n",
        "import tensorflow as tf\n",
        "import pandas as pd \n",
        "import numpy as np \n",
        "import io\n",
        "from tensorflow import keras\n",
        "import pubchempy as pcp\n",
        "from sklearn.preprocessing import OneHotEncoder\n",
        "from keras.models import load_model\n",
        "import time as tm\n",
        "from google_drive_downloader import GoogleDriveDownloader as gdd\n",
        "\n",
        "#gdd.download_file_from_google_drive(file_id='1jWa1UK8cxcCuEX_Chs1zm4hfa_j_Q-Ki',\n",
        "                                   #dest_path='/content/sample_data/HPLC_NUM.hdf5',\n",
        "                                   #unzip=False)\n",
        "#Load Model\n",
        "model = load_model('/content/sample_data/HPLC_NUM.hdf5', compile= True)\n",
        "\n"
      ],
      "metadata": {
        "colab": {
          "base_uri": "https://localhost:8080/"
        },
        "id": "k-1CGTx7sY7z",
        "outputId": "69a04502-ca78-4925-df94-d683921cab48"
      },
      "execution_count": 37,
      "outputs": [
        {
          "output_type": "stream",
          "name": "stdout",
          "text": [
            "Looking in indexes: https://pypi.org/simple, https://us-python.pkg.dev/colab-wheels/public/simple/\n",
            "Requirement already satisfied: pubchempy in /usr/local/lib/python3.8/dist-packages (1.0.4)\n"
          ]
        }
      ]
    },
    {
      "cell_type": "code",
      "source": [
        "Drug_1_CID =  2244#@param {type:\"number\"}\n",
        "Drug_2_CID =  24872560#@param {type:\"number\"}\n",
        "Methanol =  0#@param {type:\"number\"}\n",
        "Methanol = Methanol/100\n",
        "Acetonitrile =  40#@param {type:\"number\"}\n",
        "Acetonitrile = Acetonitrile/100\n",
        "Water =  0#@param {type:\"number\"}\n",
        "Water = Water/100\n",
        "Buffer =  60#@param {type:\"number\"}\n",
        "Buffer = Buffer/100\n",
        "pH =  4#@param {type:\"number\"}\n",
        "pH = pH/14\n",
        "\n",
        "\n",
        "Drug_1_CID = pcp.Compound.from_cid(Drug_1_CID)\n",
        "Drug_2_CID = pcp.Compound.from_cid(Drug_2_CID)\n",
        "\n",
        "FPD_1 = Drug_1_CID.cactvs_fingerprint\n",
        "FPD_2 = Drug_2_CID.cactvs_fingerprint\n",
        "\n",
        "List1 = [Methanol, Acetonitrile, Water, Buffer, pH]\n",
        "\n",
        "List2 = list(FPD_1)\n",
        "List3 = list(FPD_2)\n",
        "List = List1+List2 + List3\n",
        "t = pd.DataFrame(np.array(List).reshape(-1,len(List)))\n",
        "\n",
        "dataset1 = t.values\n",
        "t.dtype = int\n",
        "X_Predict = (dataset1[:,0:1767].astype(float))\n",
        "\n",
        "\n",
        "Y_prediction = model.predict(X_Predict)\n",
        "Y_prediction = Y_prediction*50\n",
        "Y_prediction = pd.DataFrame(Y_prediction)\n",
        "print(Y_prediction)\n"
      ],
      "metadata": {
        "colab": {
          "base_uri": "https://localhost:8080/"
        },
        "id": "spuSzwGes2rj",
        "outputId": "89a27b1e-8225-4485-ebcc-bf3aa606de1e"
      },
      "execution_count": 38,
      "outputs": [
        {
          "output_type": "stream",
          "name": "stdout",
          "text": [
            "1/1 [==============================] - 0s 67ms/step\n",
            "     0    1\n",
            "0  0.0  0.0\n"
          ]
        }
      ]
    },
    {
      "cell_type": "code",
      "source": [],
      "metadata": {
        "id": "YsJ8il8A2yxW"
      },
      "execution_count": null,
      "outputs": []
    }
  ],
  "metadata": {
    "colab": {
      "provenance": [],
      "authorship_tag": "ABX9TyPuViSjwJX+a4cD/8du0GGk",
      "include_colab_link": true
    },
    "kernelspec": {
      "display_name": "Python 3",
      "name": "python3"
    },
    "language_info": {
      "name": "python"
    }
  },
  "nbformat": 4,
  "nbformat_minor": 0
}