{
  "nbformat": 4,
  "nbformat_minor": 0,
  "metadata": {
    "colab": {
      "name": "Model_DE_Predictor.ipynb",
      "provenance": [],
      "collapsed_sections": [],
      "include_colab_link": true
    },
    "kernelspec": {
      "display_name": "Python 3",
      "name": "python3"
    },
    "language_info": {
      "name": "python"
    }
  },
  "cells": [
    {
      "cell_type": "markdown",
      "metadata": {
        "id": "view-in-github",
        "colab_type": "text"
      },
      "source": [
        "<a href=\"https://colab.research.google.com/github/Swayamprakashpatel/HPLC/blob/main/Model_DE_Predictor.ipynb\" target=\"_parent\"><img src=\"https://colab.research.google.com/assets/colab-badge.svg\" alt=\"Open In Colab\"/></a>"
      ]
    },
    {
      "cell_type": "markdown",
      "metadata": {
        "id": "NCz8QqPh9jAK"
      },
      "source": [
        "**DRUG-EXCIPIENT INTERACTION PREDICTION TOOL**\n",
        "\n",
        "Dr. Swayamprakash Patel (Email: swayamprakashpatel.ph@charusat.ac.in)\n",
        "\n",
        "\n",
        "**Model Details:**\n",
        "\n",
        "Training Accuracy is 0.9898828268051147\n",
        "\n",
        "Validation Accuracy is 0.9527363181114197\n",
        "\n",
        "Training loss is 0.020730653777718544\n",
        "\n",
        "Validation loss is 0.18604408204555511\n"
      ]
    },
    {
      "cell_type": "code",
      "metadata": {
        "id": "aP8cCjyNRiMY",
        "cellView": "form"
      },
      "source": [
        "#@title Add PubChem Compound ID (CID) for both Drug and Excipient and Run Both Cells (Ctrl + F9)\n",
        "#%%capture\n",
        "!pip install pubchempy\n",
        "import tensorflow as tf\n",
        "import pandas as pd \n",
        "import numpy as np \n",
        "import io\n",
        "from tensorflow import keras\n",
        "import pubchempy as pcp\n",
        "from sklearn.preprocessing import OneHotEncoder\n",
        "from keras.models import load_model\n",
        "\n",
        "#Download Model.hdf5 from google drive\n",
        "from google_drive_downloader import GoogleDriveDownloader as gdd\n",
        "\n",
        "gdd.download_file_from_google_drive(file_id='1MJgrc3AzCtlP9-bEUmKFz-PucWes7V_m',\n",
        "                                    dest_path='/content/sample_data/Model.hdf5',\n",
        "                                    unzip=False)\n",
        "#Load Model\n",
        "model = load_model('/content/sample_data/Model.hdf5', compile= True)\n",
        "\n",
        "#Compile Fingerprints (1762 Inputs)\n",
        "Drug_CID =  68844#@param {type:\"number\"}\n",
        "Excipient_CID =  174#@param {type:\"number\"}\n",
        "\n",
        "\n",
        "CID_D = pcp.Compound.from_cid(Drug_CID)\n",
        "CID_E = pcp.Compound.from_cid(Excipient_CID)\n",
        "\n",
        "FPD = CID_D.cactvs_fingerprint\n",
        "FPE = CID_E.cactvs_fingerprint \n",
        "\n",
        "List1 = list(FPD)\n",
        "List2 = list(FPE)\n",
        "List = List1 + List2\n",
        " \n",
        "t = pd.DataFrame(np.array(List).reshape(-1,len(List)))\n",
        "\n",
        "dataset1 = t.values\n",
        "#t.dtype = int\n",
        "X_Predict = (dataset1[:,0:1762].astype(int))\n",
        "#print(X_Predict)\n",
        "#print(X_Predict.shape)\n",
        "#print(X_Predict.dtype)\n",
        "\n",
        "#t1 = model.predict(X_Predict)\n",
        "#print(t1)\n",
        "\n",
        "t2 = np.round(model.predict(X_Predict))\n",
        "#print(t2)\n",
        " \n",
        "#Y_prediction = enc.inverse_transform(t2)\n",
        "#print(Y_prediction, Y_prediction.shape)\n",
        "Y1 = np.array([['Compatible'], ['Incompatible']])\n",
        "from sklearn.preprocessing import OneHotEncoder\n",
        "enc = OneHotEncoder(handle_unknown='ignore')\n",
        "enc.fit(Y1)\n",
        "OneHotEncoder(handle_unknown='ignore')\n",
        "enc.categories_\n",
        "Y = enc.transform(Y1).toarray()\n",
        "Y_prediction = enc.inverse_transform(t2)\n",
        "\n",
        "#print(Y_prediction)"
      ],
      "execution_count": null,
      "outputs": []
    },
    {
      "cell_type": "code",
      "metadata": {
        "cellView": "form",
        "id": "fb9AAQyyCULJ"
      },
      "source": [
        "#@title Show Result\n",
        "#print(t2)\n",
        "from termcolor import colored\n",
        "if Y_prediction >= 'Possibally Incompatible':\n",
        "  color = 'red'\n",
        "else:\n",
        "  color = 'green'\n",
        "print(colored(Y_prediction,color))"
      ],
      "execution_count": null,
      "outputs": []
    }
  ]
}