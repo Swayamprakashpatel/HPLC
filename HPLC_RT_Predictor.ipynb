{
  "nbformat": 4,
  "nbformat_minor": 0,
  "metadata": {
    "colab": {
      "provenance": [],
      "authorship_tag": "ABX9TyN+np/TORx19k0QpSHtTLCO",
      "include_colab_link": true
    },
    "kernelspec": {
      "name": "python3",
      "display_name": "Python 3"
    },
    "language_info": {
      "name": "python"
    }
  },
  "cells": [
    {
      "cell_type": "markdown",
      "metadata": {
        "id": "view-in-github",
        "colab_type": "text"
      },
      "source": [
        "<a href=\"https://colab.research.google.com/github/Swayamprakashpatel/HPLC/blob/main/HPLC_RT_Predictor.ipynb\" target=\"_parent\"><img src=\"https://colab.research.google.com/assets/colab-badge.svg\" alt=\"Open In Colab\"/></a>"
      ]
    },
    {
      "cell_type": "markdown",
      "source": [
        "**HPLC Rt Predictor**\n",
        "\n",
        "> *Ramanbhai Patel College of Pharmacy*\n",
        "\n",
        "> Dr. Swayamprakash Patel (swayamprakashpatel.ph@charusat.ac.in)\n",
        "\n",
        "> Dr. Mehul Patel (mehulpatel.ph@charusat.ac.in)"
      ],
      "metadata": {
        "id": "Ky9hDhBHq5nb"
      }
    },
    {
      "cell_type": "markdown",
      "source": [
        "**To predict RT**"
      ],
      "metadata": {
        "id": "QRHChidQQ5rA"
      }
    },
    {
      "cell_type": "code",
      "execution_count": null,
      "metadata": {
        "cellView": "form",
        "id": "7DpcR388q2Ot"
      },
      "outputs": [],
      "source": [
        "\n",
        "!pip install pubchempy\n",
        "import tensorflow as tf\n",
        "import pandas as pd\n",
        "import numpy as np\n",
        "import io\n",
        "from tensorflow import keras\n",
        "import pubchempy as pcp\n",
        "from sklearn.preprocessing import OneHotEncoder\n",
        "from keras.models import load_model\n",
        "import time as tm\n",
        "\n",
        "from google_drive_downloader import GoogleDriveDownloader as gdd\n",
        "\n",
        "gdd.download_file_from_google_drive(file_id='1TYa0HCjzRk9SxBe8hslYVsr9Hahge6Z4',\n",
        "                                   dest_path='/content/sample_data/HPLC_NUM.hdf5',\n",
        "                                   unzip=False)\n",
        "#Load Model\n",
        "model = load_model('/content/sample_data/HPLC_NUM.hdf5', compile= True)\n",
        "\n",
        "\n",
        "\n",
        "\n",
        "Drug_1_CID =  24872560#@param {type:\"number\"}\n",
        "Drug_2_CID =  24872560#@param {type:\"number\"}\n",
        "Methanol =  0#@param {type:\"number\"}\n",
        "Methanol = Methanol/100\n",
        "Acetonitrile =  52#@param {type:\"number\"}\n",
        "Acetonitrile = Acetonitrile/100\n",
        "Water =  0#@param {type:\"number\"}\n",
        "Water = Water/100\n",
        "Buffer =  48#@param {type:\"number\"}\n",
        "Buffer = Buffer/100\n",
        "pH =  2.5#@param {type:\"number\"}\n",
        "pH = pH/14\n",
        "\n",
        "\n",
        "Drug_1_CID = pcp.Compound.from_cid(Drug_1_CID)\n",
        "Drug_2_CID = pcp.Compound.from_cid(Drug_2_CID)\n",
        "\n",
        "FPD_1 = Drug_1_CID.cactvs_fingerprint\n",
        "FPD_2 = Drug_2_CID.cactvs_fingerprint\n",
        "\n",
        "List1 = [Methanol, Acetonitrile, Water, Buffer, pH]\n",
        "\n",
        "List2 = list(FPD_1)\n",
        "List3 = list(FPD_2)\n",
        "List = List1+List2+List3\n",
        "t = pd.DataFrame(np.array(List).reshape(-1,len(List)))\n",
        "\n",
        "dataset1 = t.values\n",
        "t.dtype = int\n",
        "X_Predict = (dataset1[:,0:1767].astype(float))\n",
        "\n",
        "\n",
        "Y_prediction = model.predict(X_Predict)\n",
        "Y_prediction = Y_prediction\n",
        "#Y_prediction = pd.DataFrame(Y_prediction)\n",
        "print(Y_prediction)\n"
      ]
    },
    {
      "cell_type": "markdown",
      "source": [
        "**To Predict System**"
      ],
      "metadata": {
        "id": "Zpi3NYGSRHQp"
      }
    },
    {
      "cell_type": "code",
      "source": [
        "!pip install tabulate\n",
        "!pip install pubchempy\n",
        "import pubchempy as pcp\n",
        "import pandas as pd\n",
        "import numpy as np\n",
        "from keras.models import load_model\n",
        "from google_drive_downloader import GoogleDriveDownloader as gdd\n",
        "from tabulate import tabulate\n",
        "\n",
        "# Download and load the model\n",
        "gdd.download_file_from_google_drive(file_id='1VCo8GVaTW6CAVaezBpkku3UzWebpRBzH',\n",
        "                                    dest_path='/content/sample_data/HPLC_System.hdf5',\n",
        "                                    unzip=False)\n",
        "model = load_model('/content/sample_data/HPLC_System.hdf5', compile=True)\n",
        "\n",
        "# Define a function to convert predictions to meaningful values\n",
        "def process_predictions(predictions):\n",
        "    predictions[:, 0:4] *= 100  # Multiply first four columns by 100\n",
        "    predictions[:, 4] *= 14      # Multiply pH column by 14\n",
        "    return predictions\n",
        "\n",
        "# Define compound CIDs\n",
        "Drug_1_CID =  24872560#@param {type:\"number\"}\n",
        "Drug_2_CID =  24872560#@param {type:\"number\"}\n",
        "\n",
        "# Fetch compounds using pubchempy\n",
        "Drug_1_CID = pcp.Compound.from_cid(Drug_1_CID)\n",
        "Drug_2_CID = pcp.Compound.from_cid(Drug_2_CID)\n",
        "\n",
        "# Extract fingerprints\n",
        "FPD_1 = Drug_1_CID.cactvs_fingerprint\n",
        "FPD_2 = Drug_2_CID.cactvs_fingerprint\n",
        "\n",
        "# Concatenate the fingerprints\n",
        "List2 = list(FPD_1)\n",
        "List3 = list(FPD_2)\n",
        "List = List2 + List3\n",
        "\n",
        "# Create a DataFrame for predictions\n",
        "t = pd.DataFrame(np.array(List).reshape(-1, len(List)))\n",
        "\n",
        "# Convert DataFrame to int type\n",
        "t = t.astype(int)\n",
        "\n",
        "# Extract the necessary columns for prediction\n",
        "X_Predict = t.iloc[:, 0:1762].astype(float).values\n",
        "\n",
        "# Make predictions\n",
        "Y_prediction = model.predict(X_Predict)\n",
        "\n",
        "# Process predictions to meaningful values\n",
        "processed_predictions = process_predictions(Y_prediction)\n",
        "\n",
        "# Define column labels\n",
        "columns = ['Methanol (%)', 'Acetonitrile (%)', 'Water (%)', 'Buffer (%)', 'pH']\n",
        "\n",
        "# Create a DataFrame with labels and processed predictions\n",
        "result_df = pd.DataFrame(data=processed_predictions, columns=columns)\n",
        "\n",
        "# Generate a formatted table using tabulate\n",
        "table = tabulate(result_df, headers='keys', tablefmt='grid', showindex=False)\n",
        "\n",
        "# Print the formatted table\n",
        "print(table)\n"
      ],
      "metadata": {
        "cellView": "form",
        "id": "bVSfMH3sP7R-"
      },
      "execution_count": null,
      "outputs": []
    }
  ]
}