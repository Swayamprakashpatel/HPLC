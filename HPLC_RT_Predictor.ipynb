{
  "nbformat": 4,
  "nbformat_minor": 0,
  "metadata": {
    "colab": {
      "provenance": [],
      "authorship_tag": "ABX9TyPV5vgy1B4Idh7Srw8uc+Mi",
      "include_colab_link": true
    },
    "kernelspec": {
      "name": "python3",
      "display_name": "Python 3"
    },
    "language_info": {
      "name": "python"
    }
  },
  "cells": [
    {
      "cell_type": "markdown",
      "metadata": {
        "id": "view-in-github",
        "colab_type": "text"
      },
      "source": [
        "<a href=\"https://colab.research.google.com/github/Swayamprakashpatel/HPLC/blob/main/HPLC_RT_Predictor.ipynb\" target=\"_parent\"><img src=\"https://colab.research.google.com/assets/colab-badge.svg\" alt=\"Open In Colab\"/></a>"
      ]
    },
    {
      "cell_type": "markdown",
      "source": [
        "**HPLC Rt Predictor**\n",
        "\n",
        "> *Ramanbhai Patel College of Pharmacy*\n",
        "\n",
        "> Dr. Swayamprakash Patel (swayamprakashpatel.ph@charusat.ac.in)\n",
        "\n",
        "> Dr. Mehul Patel (mehulpatel.ph@charusat.ac.in)"
      ],
      "metadata": {
        "id": "Ky9hDhBHq5nb"
      }
    },
    {
      "cell_type": "code",
      "execution_count": null,
      "metadata": {
        "cellView": "form",
        "id": "7DpcR388q2Ot"
      },
      "outputs": [],
      "source": [
        "!pip install pubchempy\n",
        "import tensorflow as tf\n",
        "import pandas as pd \n",
        "import numpy as np \n",
        "import io\n",
        "from tensorflow import keras\n",
        "import pubchempy as pcp\n",
        "from sklearn.preprocessing import OneHotEncoder\n",
        "from keras.models import load_model\n",
        "import time as tm\n",
        "\n",
        "from google_drive_downloader import GoogleDriveDownloader as gdd\n",
        "\n",
        "gdd.download_file_from_google_drive(file_id='1TYa0HCjzRk9SxBe8hslYVsr9Hahge6Z4',\n",
        "                                   dest_path='/content/sample_data/HPLC_NUM.hdf5',\n",
        "                                   unzip=False)\n",
        "#Load Model\n",
        "model = load_model('/content/sample_data/HPLC_NUM.hdf5', compile= True)\n",
        "\n",
        "\n",
        "\n",
        "\n",
        "Drug_1_CID =  2244#@param {type:\"number\"}\n",
        "Drug_2_CID =  24872560#@param {type:\"number\"}\n",
        "Methanol =  0#@param {type:\"number\"}\n",
        "Methanol = Methanol/100\n",
        "Acetonitrile =  40#@param {type:\"number\"}\n",
        "Acetonitrile = Acetonitrile/100\n",
        "Water =  0#@param {type:\"number\"}\n",
        "Water = Water/100\n",
        "Buffer =  60#@param {type:\"number\"}\n",
        "Buffer = Buffer/100\n",
        "pH =  4#@param {type:\"number\"}\n",
        "pH = pH/14\n",
        "\n",
        "\n",
        "Drug_1_CID = pcp.Compound.from_cid(Drug_1_CID)\n",
        "Drug_2_CID = pcp.Compound.from_cid(Drug_2_CID)\n",
        "\n",
        "FPD_1 = Drug_1_CID.cactvs_fingerprint\n",
        "FPD_2 = Drug_2_CID.cactvs_fingerprint\n",
        "\n",
        "List1 = [Methanol, Acetonitrile, Water, Buffer, pH]\n",
        "\n",
        "List2 = list(FPD_1)\n",
        "List3 = list(FPD_2)\n",
        "List = List1+List2+List3\n",
        "t = pd.DataFrame(np.array(List).reshape(-1,len(List)))\n",
        "\n",
        "dataset1 = t.values\n",
        "t.dtype = int\n",
        "X_Predict = (dataset1[:,0:1767].astype(float))\n",
        "\n",
        "\n",
        "Y_prediction = model.predict(X_Predict)\n",
        "Y_prediction = Y_prediction\n",
        "#Y_prediction = pd.DataFrame(Y_prediction)\n",
        "print(Y_prediction)\n"
      ]
    }
  ]
}